{
  "cells": [
    {
      "cell_type": "markdown",
      "metadata": {},
      "source": [
        "# Session 2: Lists, Tuples, Dictionaries, and Sets\n",
        "\n",
        "In this notebook, we will explore the following data structures in Python:\n",
        "\n",
        "- **Lists**\n",
        "- **Tuples**\n",
        "- **Dictionaries**\n",
        "- **Sets**\n",
        "\n",
        "We'll also see how to iterate over each one, and practice with code examples."
      ]
    },
    {
      "cell_type": "markdown",
      "metadata": {},
      "source": [
        "## 1. Lists\n",
        "A list in Python is an ordered, mutable collection of items. Lists are incredibly versatile and commonly used for storing sequences of data."
      ]
    },
    {
      "cell_type": "code",
      "execution_count": null,
      "metadata": {},
      "outputs": [],
      "source": [
        "# Creating and modifying a list\n",
        "fruits = [\"apple\", \"banana\", \"cherry\"]\n",
        "print(fruits)\n",
        "\n",
        "# Accessing elements\n",
        "print(fruits[0])  # apple\n",
        "\n",
        "# Modifying elements\n",
        "fruits[1] = \"mango\"\n",
        "print(fruits)\n",
        "\n",
        "# Common list methods\n",
        "fruits.append(\"orange\")\n",
        "print(fruits)\n",
        "removed_item = fruits.pop()\n",
        "print(removed_item, fruits)\n",
        "\n",
        "# Iterating over a list\n",
        "for fruit in fruits:\n",
        "    print(fruit)"
      ]
    },
    {
      "cell_type": "markdown",
      "metadata": {},
      "source": [
        "## 2. Tuples\n",
        "A tuple is an ordered, immutable collection of items. Once created, elements within a tuple cannot be changed."
      ]
    },
    {
      "cell_type": "code",
      "execution_count": null,
      "metadata": {},
      "outputs": [],
      "source": [
        "# Creating a tuple\n",
        "colors = (\"red\", \"green\", \"blue\")\n",
        "print(colors)\n",
        "\n",
        "# Accessing tuple elements\n",
        "print(colors[0])  # red\n",
        "print(colors[1:]) # (\"green\", \"blue\")\n",
        "\n",
        "# Iterating over a tuple\n",
        "for color in colors:\n",
        "    print(color)"
      ]
    },
    {
      "cell_type": "markdown",
      "metadata": {},
      "source": [
        "## 3. Dictionaries\n",
        "A dictionary is an unordered collection of key-value pairs, extremely useful for quick lookups when you know the key."
      ]
    },
    {
      "cell_type": "code",
      "execution_count": null,
      "metadata": {},
      "outputs": [],
      "source": [
        "# Creating a dictionary\n",
        "student = {\n",
        "    \"name\": \"Alice\",\n",
        "    \"age\": 21,\n",
        "    \"major\": \"Computer Science\"\n",
        "}\n",
        "print(student)\n",
        "\n",
        "# Accessing and modifying values\n",
        "print(student[\"name\"])  # Alice\n",
        "student[\"age\"] = 22\n",
        "student[\"graduation_year\"] = 2024\n",
        "print(student)\n",
        "\n",
        "# Dictionary methods\n",
        "print(student.keys())\n",
        "print(student.values())\n",
        "print(student.items())\n",
        "\n",
        "# Iterating over a dictionary\n",
        "for key in student:\n",
        "    print(key, student[key])\n",
        "\n",
        "for key, value in student.items():\n",
        "    print(key, value)"
      ]
    },
    {
      "cell_type": "markdown",
      "metadata": {},
      "source": [
        "## 4. Sets\n",
        "A set in Python is an unordered, mutable collection of **unique** elements. It is often used for membership checking and to remove duplicates."
      ]
    },
    {
      "cell_type": "code",
      "execution_count": null,
      "metadata": {},
      "outputs": [],
      "source": [
        "# Creating a set\n",
        "my_set = {1, 2, 3, 2}  # Duplicate 2 will be removed\n",
        "print(my_set)\n",
        "\n",
        "# Set operations\n",
        "set_a = {1, 2, 3}\n",
        "set_b = {3, 4, 5}\n",
        "print(set_a | set_b)        # Union\n",
        "print(set_a & set_b)        # Intersection\n",
        "print(set_a - set_b)        # Difference\n",
        "print(set_a ^ set_b)        # Symmetric difference\n",
        "\n",
        "# Iterating over a set\n",
        "for element in my_set:\n",
        "    print(element)"
      ]
    }
  ],
  "metadata": {
    "kernelspec": {
      "display_name": "Python 3",
      "language": "python",
      "name": "python3"
    },
    "language_info": {
      "name": "python",
      "version": "3.11.9"
    }
  },
  "nbformat": 4,
  "nbformat_minor": 5
}
