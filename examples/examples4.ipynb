{
 "cells": [
  {
   "cell_type": "markdown",
   "id": "fdff7661",
   "metadata": {},
   "source": [
    "# Advanced OOP Concepts in Python\n",
    "\n",
    "This notebook explores advanced OOP concepts through three structured levels:\n",
    "\n",
    "1. **Level 1: Syntax** – Basic examples of inheritance and polymorphism\n",
    "2. **Level 2: Application** – Practical use of encapsulation and abstraction\n",
    "3. **Level 3: Algorithm** – Complex problems solved using composition\n",
    "\n",
    "Each problem is presented with its goal, description, key points, and a solution."
   ]
  },
  {
   "cell_type": "markdown",
   "id": "7d142349",
   "metadata": {},
   "source": [
    "## Level 1: Syntax\n",
    "\n",
    "Learn the fundamental syntax of advanced OOP by experimenting with inheritance and polymorphism."
   ]
  },
  {
   "cell_type": "markdown",
   "id": "f1555911",
   "metadata": {},
   "source": [
    "### Problem 1.1: Inheritance Example\n",
    "\n",
    "**Goal**: Create a base `Animal` class and derive a `Dog` class to demonstrate inheritance and method overriding.\n",
    "\n",
    "**Description**:\n",
    "1. Define an `Animal` class with a constructor that sets the `name` attribute and a `speak` method.\n",
    "2. Derive a `Dog` class from `Animal` and override the `speak` method.\n",
    "\n",
    "**Key Points**:\n",
    "- Inheritance syntax in Python\n",
    "- Overriding methods\n",
    "- Using parent attributes in children"
   ]
  },
  {
   "cell_type": "code",
   "execution_count": null,
   "id": "bbe64311",
   "metadata": {},
   "outputs": [],
   "source": [
    "# Inheritance Example\n",
    "class Animal:\n",
    "    def __init__(self, name):\n",
    "        self.name = name\n",
    "    \n",
    "    def speak(self):\n",
    "        return f\"{self.name} makes a sound.\"\n",
    "\n",
    "class Dog(Animal):\n",
    "    def speak(self):\n",
    "        return f\"{self.name} barks!\"\n",
    "\n",
    "# Testing inheritance\n",
    "dog = Dog(\"Buddy\")\n",
    "print(dog.speak())  # Expected output: Buddy barks!"
   ]
  },
  {
   "cell_type": "markdown",
   "id": "473a8884",
   "metadata": {},
   "source": [
    "### Problem 1.2: Polymorphism Example\n",
    "\n",
    "**Goal**: Show polymorphism by creating a `Cat` class (derived from `Animal`) and a function that accepts any animal instance to call its `speak` method.\n",
    "\n",
    "**Description**:\n",
    "1. Define a `Cat` class that overrides the `speak` method from `Animal`.\n",
    "2. Create a helper function `animal_sound` that prints the result of the `speak` method.\n",
    "\n",
    "**Key Points**:\n",
    "- Polymorphic method calls\n",
    "- Consistent interface across different classes"
   ]
  },
  {
   "cell_type": "code",
   "execution_count": null,
   "id": "42cb2676",
   "metadata": {},
   "outputs": [],
   "source": [
    "# Polymorphism Example\n",
    "class Cat(Animal):\n",
    "    def speak(self):\n",
    "        return f\"{self.name} meows!\"\n",
    "\n",
    "def animal_sound(animal):\n",
    "    print(animal.speak())\n",
    "\n",
    "# Testing polymorphism\n",
    "cat = Cat(\"Whiskers\")\n",
    "animal_sound(dog)   # Expected: Buddy barks!\n",
    "animal_sound(cat)   # Expected: Whiskers meows!"
   ]
  },
  {
   "cell_type": "markdown",
   "id": "680e8a11",
   "metadata": {},
   "source": [
    "## Level 2: Application\n",
    "\n",
    "Apply advanced OOP concepts to simulate real-world scenarios with encapsulation and abstraction."
   ]
  },
  {
   "cell_type": "markdown",
   "id": "07b30c6e",
   "metadata": {},
   "source": [
    "### Problem 2.1: Encapsulation Example\n",
    "\n",
    "**Goal**: Create an `Account` class that uses private attributes to safeguard its state and provides public methods for deposits and balance checking.\n",
    "\n",
    "**Description**:\n",
    "1. Define an `Account` class with a private `__balance` attribute.\n",
    "2. Implement a `deposit` method that updates the balance if the amount is valid.\n",
    "3. Add a `get_balance` method to read the balance.\n",
    "\n",
    "**Key Points**:\n",
    "- Use of private attributes in Python\n",
    "- Data encapsulation and controlled access"
   ]
  },
  {
   "cell_type": "code",
   "execution_count": null,
   "id": "a24e94af",
   "metadata": {},
   "outputs": [],
   "source": [
    "# Encapsulation Example\n",
    "class Account:\n",
    "    def __init__(self, owner, balance=0):\n",
    "        self.owner = owner\n",
    "        self.__balance = balance  # Private attribute\n",
    "    \n",
    "    def deposit(self, amount):\n",
    "        if amount > 0:\n",
    "            self.__balance += amount\n",
    "            return f\"Deposited {amount}\"\n",
    "        return \"Invalid deposit amount\"\n",
    "    \n",
    "    def get_balance(self):\n",
    "        return self.__balance\n",
    "\n",
    "# Testing encapsulation\n",
    "acc = Account(\"John\")\n",
    "print(acc.deposit(300))\n",
    "print(acc.get_balance())  # Expected output: 300"
   ]
  },
  {
   "cell_type": "markdown",
   "id": "7a49982a",
   "metadata": {},
   "source": [
    "### Problem 2.2: Abstraction Example\n",
    "\n",
    "**Goal**: Use abstract classes to enforce a common interface on vehicles.\n",
    "\n",
    "**Description**:\n",
    "1. Define an abstract `Vehicle` class with an abstract method `start`.\n",
    "2. Implement a concrete `Car` class that provides its own `start` method.\n",
    "\n",
    "**Key Points**:\n",
    "- Use of the `abc` module in Python\n",
    "- Forcing subclasses to implement abstract methods"
   ]
  },
  {
   "cell_type": "code",
   "execution_count": null,
   "id": "f8adcff6",
   "metadata": {},
   "outputs": [],
   "source": [
    "# Abstraction Example\n",
    "from abc import ABC, abstractmethod\n",
    "\n",
    "class Vehicle(ABC):\n",
    "    @abstractmethod\n",
    "    def start(self):\n",
    "        pass\n",
    "\n",
    "class Car(Vehicle):\n",
    "    def start(self):\n",
    "        return \"Car is starting with a key ignition.\"\n",
    "\n",
    "# Testing abstraction\n",
    "car = Car()\n",
    "print(car.start())  # Expected output: Car is starting with a key ignition."
   ]
  },
  {
   "cell_type": "markdown",
   "id": "d5cfc8bb",
   "metadata": {},
   "source": [
    "## Level 3: Algorithm\n",
    "\n",
    "Combine multiple OOP concepts by developing a complex system using composition."
   ]
  },
  {
   "cell_type": "markdown",
   "id": "ec1cc7b0",
   "metadata": {},
   "source": [
    "### Problem 3.1: Composition Example\n",
    "\n",
    "**Goal**: Create a `Car` class that uses composition by including an `Engine` object.\n",
    "\n",
    "**Description**:\n",
    "1. Define an `Engine` class with a `start` method.\n",
    "2. Create a `Car` class whose constructor instantiates an `Engine`.\n",
    "3. Implement a `start` method in `Car` that uses the engine's `start` method.\n",
    "\n",
    "**Key Points**:\n",
    "- Composition: a \"has-a\" relationship\n",
    "- Delegating responsibilities to composed objects"
   ]
  },
  {
   "cell_type": "code",
   "execution_count": null,
   "id": "abf481ae",
   "metadata": {},
   "outputs": [],
   "source": [
    "# Composition Example\n",
    "class Engine:\n",
    "    def start(self):\n",
    "        return \"Engine starting.\"\n",
    "\n",
    "class Car:\n",
    "    def __init__(self, model):\n",
    "        self.model = model\n",
    "        self.engine = Engine()  # Composition: Car has an Engine\n",
    "    \n",
    "    def start(self):\n",
    "        return f\"{self.model}: {self.engine.start()}\"\n",
    "\n",
    "# Testing composition\n",
    "my_car = Car(\"Sedan\")\n",
    "print(my_car.start())  # Expected output: Sedan: Engine starting."
   ]
  },
  {
   "cell_type": "markdown",
   "id": "3af0ff16",
   "metadata": {},
   "source": [
    "## Conclusion\n",
    "\n",
    "In this notebook we have:\n",
    "\n",
    "- **Level 1: Syntax**: Learned inheritance and polymorphism using simple Animal classes\n",
    "- **Level 2: Application**: Applied encapsulation and abstraction in real-world scenarios\n",
    "- **Level 3: Algorithm**: Built a complex system with composition\n",
    "\n",
    "These advanced OOP techniques are vital in creating scalable and maintainable software projects. Experiment further and extend these examples to suit your needs."
   ]
  }
 ],
 "metadata": {
  "language_info": {
   "name": "python"
  }
 },
 "nbformat": 4,
 "nbformat_minor": 2
}
