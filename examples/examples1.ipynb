{
 "cells": [
  {
   "cell_type": "markdown",
   "metadata": {},
   "source": [
    "# Introduction to Python for Data Science\n",
    "\n",
    "This notebook contains three main sections based on skill level:\n",
    "1. **Beginner (Syntax)**\n",
    "2. **Intermediate (Application)**\n",
    "3. **Advanced (Algorithm)**\n",
    "\n",
    "Each section includes three problems, an explanation of each, and a step-by-step solution in code."
   ]
  },
  {
   "cell_type": "markdown",
   "metadata": {},
   "source": [
    "---\n",
    "## 1. Beginner Level (Syntax)\n",
    "\n",
    "This section covers fundamental Python syntax and basic operations."
   ]
  },
  {
   "cell_type": "markdown",
   "metadata": {},
   "source": [
    "### Problem 1: Print and Variables\n",
    "**Goal**: Learn how to declare variables, use the `print()` function, and do simple arithmetic.\n",
    "\n",
    "**Description**:\n",
    "1. You want to store two numbers in variables.\n",
    "2. Print their sum, difference, and product.\n",
    "3. Demonstrate string concatenation as well.\n",
    "\n",
    "**Key Points**:\n",
    "- Declaring variables in Python (no need for a type).\n",
    "- Using the `+` operator both for arithmetic and string concatenation.\n",
    "- Using `print()` for displaying output.\n"
   ]
  },
  {
   "cell_type": "code",
   "execution_count": null,
   "metadata": {},
   "outputs": [],
   "source": [
    "# Solution to Problem 1\n",
    "num1 = 10\n",
    "num2 = 5\n",
    "\n",
    "# Arithmetic\n",
    "sum_result = num1 + num2\n",
    "difference_result = num1 - num2\n",
    "product_result = num1 * num2\n",
    "\n",
    "print(\"num1 =\", num1)\n",
    "print(\"num2 =\", num2)\n",
    "print(\"Sum =\", sum_result)\n",
    "print(\"Difference =\", difference_result)\n",
    "print(\"Product =\", product_result)\n",
    "\n",
    "# String concatenation example\n",
    "text1 = \"Hello\"\n",
    "text2 = \"World\"\n",
    "concatenated = text1 + \" \" + text2\n",
    "print(\"String Concatenation =\", concatenated)"
   ]
  },
  {
   "cell_type": "markdown",
   "metadata": {},
   "source": [
    "### Problem 2: Input and Type Casting\n",
    "**Goal**: Practice how to capture user input and convert it into different data types.\n",
    "\n",
    "**Description**:\n",
    "1. Prompt the user for their name (string).\n",
    "2. Prompt the user for their age (integer).\n",
    "3. Print a greeting including their name and confirm their age next year.\n",
    "\n",
    "**Key Points**:\n",
    "- Using `input()` function to capture data.\n",
    "- Converting string inputs to integers.\n",
    "- Printing a customized message with f-strings.\n"
   ]
  },
  {
   "cell_type": "code",
   "execution_count": null,
   "metadata": {},
   "outputs": [],
   "source": [
    "# Solution to Problem 2\n",
    "# NOTE: If you run this in a Jupyter environment, you can input values inline.\n",
    "# For demonstration, we will simulate the input by defining the variables directly.\n",
    "\n",
    "# name = input(\"Enter your name: \")\n",
    "# age_str = input(\"Enter your age: \")\n",
    "\n",
    "name = \"Alice\"  # simulated input\n",
    "age_str = \"30\"    # simulated input\n",
    "\n",
    "age = int(age_str)\n",
    "next_year_age = age + 1\n",
    "\n",
    "print(f\"Hello, {name}! You are {age} years old.\")\n",
    "print(f\"Next year, you'll be {next_year_age} years old.\")"
   ]
  },
  {
   "cell_type": "markdown",
   "metadata": {},
   "source": [
    "### Problem 3: Simple Conditional\n",
    "**Goal**: Learn to use basic `if`, `elif`, and `else` statements.\n",
    "\n",
    "**Description**:\n",
    "1. Prompt the user for a number.\n",
    "2. Check if the number is positive, negative, or zero.\n",
    "3. Print an appropriate response.\n",
    "\n",
    "**Key Points**:\n",
    "- Using `if`, `elif`, and `else` in Python.\n",
    "- Handling boundary conditions.\n"
   ]
  },
  {
   "cell_type": "code",
   "execution_count": null,
   "metadata": {},
   "outputs": [],
   "source": [
    "# Solution to Problem 3\n",
    "# num_str = input(\"Enter a number: \")  # In a real scenario\n",
    "num_str = \"-5\"  # Simulated input\n",
    "num = float(num_str)\n",
    "\n",
    "if num > 0:\n",
    "    print(f\"{num} is positive.\")\n",
    "elif num < 0:\n",
    "    print(f\"{num} is negative.\")\n",
    "else:\n",
    "    print(f\"{num} is zero.\")\n"
   ]
  },
  {
   "cell_type": "markdown",
   "metadata": {},
   "source": [
    "---\n",
    "## 2. Intermediate Level (Application)\n",
    "\n",
    "This section demonstrates how to apply Python syntax and basic data structures to solve slightly more complex tasks."
   ]
  },
  {
   "cell_type": "markdown",
   "metadata": {},
   "source": [
    "### Problem 1: List Operations\n",
    "**Goal**: Work with lists, loops, and basic operations on collections.\n",
    "\n",
    "**Description**:\n",
    "1. Create a list of 5 numbers.\n",
    "2. Compute the sum, average, and maximum value.\n",
    "3. Print them out in a nicely formatted way.\n",
    "\n",
    "**Key Points**:\n",
    "- Basic list indexing and iteration.\n",
    "- Using built-in functions like `sum()` and `max()`.\n"
   ]
  },
  {
   "cell_type": "code",
   "execution_count": null,
   "metadata": {},
   "outputs": [],
   "source": [
    "# Solution to Intermediate Problem 1\n",
    "numbers = [12, 5, 7, 19, 3]\n",
    "total = sum(numbers)\n",
    "avg = total / len(numbers)\n",
    "maximum = max(numbers)\n",
    "\n",
    "print(f\"Numbers: {numbers}\")\n",
    "print(f\"Sum: {total}\")\n",
    "print(f\"Average: {avg}\")\n",
    "print(f\"Max Value: {maximum}\")"
   ]
  },
  {
   "cell_type": "markdown",
   "metadata": {},
   "source": [
    "### Problem 2: String Analysis\n",
    "**Goal**: Analyze a user input string for certain characteristics.\n",
    "\n",
    "**Description**:\n",
    "1. Prompt the user for a sentence.\n",
    "2. Count how many words it has.\n",
    "3. Convert it to uppercase and check if it has any digits.\n",
    "4. Print your findings.\n",
    "\n",
    "**Key Points**:\n",
    "- Splitting strings into lists of words.\n",
    "- Using built-in string methods like `.upper()`, `.isdigit()`, etc.\n"
   ]
  },
  {
   "cell_type": "code",
   "execution_count": null,
   "id": "a7f64a58",
   "metadata": {},
   "outputs": [],
   "source": []
  },
  {
   "cell_type": "code",
   "execution_count": null,
   "metadata": {},
   "outputs": [],
   "source": [
    "# Solution to Intermediate Problem 2\n",
    "# sentence = input(\"Enter a sentence: \")\n",
    "sentence = \"Hello world 123\"  # Simulated input\n",
    "words = sentence.split()\n",
    "word_count = len(words)\n",
    "uppercase_sentence = sentence.upper()\n",
    "contains_digit = any(ch.isdigit() for ch in sentence)\n",
    "\n",
    "print(f\"Original Sentence: {sentence}\")\n",
    "print(f\"Word Count: {word_count}\")\n",
    "print(f\"Uppercase Sentence: {uppercase_sentence}\")\n",
    "print(f\"Contains Digit?: {contains_digit}\")"
   ]
  },
  {
   "cell_type": "markdown",
   "metadata": {},
   "source": [
    "### Problem 3: Simple Calculator with Error Handling\n",
    "**Goal**: Extend a basic calculator to handle invalid operations gracefully.\n",
    "\n",
    "**Description**:\n",
    "1. Prompt the user for two numbers.\n",
    "2. Prompt for an operation (`+`, `-`, `*`, `/`).\n",
    "3. Perform the operation if valid, otherwise print an error.\n",
    "4. Use a `try-except` block to handle division by zero.\n",
    "\n",
    "**Key Points**:\n",
    "- Handling exceptions in Python.\n",
    "- Using conditional checks for valid operations.\n",
    "- Good example of a small application with user input.\n"
   ]
  },
  {
   "cell_type": "code",
   "execution_count": null,
   "metadata": {},
   "outputs": [],
   "source": [
    "# Solution to Intermediate Problem 3\n",
    "# Simulated user inputs\n",
    "num1_str = \"15\"\n",
    "num2_str = \"0\"\n",
    "operation = \"/\"\n",
    "\n",
    "num1 = float(num1_str)\n",
    "num2 = float(num2_str)\n",
    "\n",
    "if operation not in ['+', '-', '*', '/']:\n",
    "    print(\"Invalid operation!\")\n",
    "else:\n",
    "    try:\n",
    "        if operation == '+':\n",
    "            result = num1 + num2\n",
    "        elif operation == '-':\n",
    "            result = num1 - num2\n",
    "        elif operation == '*':\n",
    "            result = num1 * num2\n",
    "        else:  # division\n",
    "            result = num1 / num2\n",
    "        print(f\"{num1} {operation} {num2} = {result}\")\n",
    "    except ZeroDivisionError:\n",
    "        print(\"Error: Division by zero is not allowed.\")\n"
   ]
  },
  {
   "cell_type": "markdown",
   "metadata": {},
   "source": [
    "---\n",
    "## Conclusion\n",
    "In this Jupyter notebook, we covered **Beginner**, **Intermediate**, and **Advanced** problems. We started with basic Python syntax, user input, and simple conditionals, then moved on to practical list and string operations. Finally, we explored algorithms like Fibonacci, Bubble Sort, and factorial with memoization."
   ]
  }
 ],
 "metadata": {
  "kernelspec": {
   "display_name": "Python 3",
   "language": "python",
   "name": "python3"
  },
  "language_info": {
   "codemirror_mode": {
    "name": "ipython",
    "version": 3
   },
   "file_extension": ".py",
   "mimetype": "text/x-python",
   "name": "python",
   "nbconvert_exporter": "python",
   "pygments_lexer": "ipython3",
   "version": "3.11.9"
  }
 },
 "nbformat": 4,
 "nbformat_minor": 5
}
