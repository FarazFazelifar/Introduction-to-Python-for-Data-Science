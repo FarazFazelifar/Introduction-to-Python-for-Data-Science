{
    "cells": [
        {
            "cell_type": "markdown",
            "id": "intro",
            "metadata": {},
            "source": [
                "# OOP in Python: From Syntax to Algorithms\n",
                "\n",
                "This notebook is structured into three levels:\n",
                "\n",
                "1. **Level 1: Syntax** – Learn the basic syntax of classes with simple examples.\n",
                "2. **Level 2: Application** – Apply the syntax in intermediate, real-world examples.\n",
                "3. **Level 3: Algorithm** – Solve complex problems using all that has been learned.\n",
                "\n",
                "Each example is introduced as a problem with clear goals and then followed by a solution."
            ]
        },
        {
            "cell_type": "markdown",
            "id": "level1_intro",
            "metadata": {},
            "source": [
                "## Level 1: Syntax\n",
                "\n",
                "In Level 1, you will learn the basic structure of a class, constructors, and methods through simple examples."
            ]
        },
        {
            "cell_type": "markdown",
            "id": "problem1_1",
            "metadata": {},
            "source": [
                "### Problem 1.1: Define a House Class\n",
                "**Goal**: Create a simple `House` class with a constructor that initializes attributes and a method to describe the house.\n",
                "\n",
                "**Description**:\n",
                "1. Define a class called `House`.\n",
                "2. Use the constructor (`__init__`) to set `color`, `windows`, and `doors` as instance attributes.\n",
                "3. Create a method `describe` to return a string describing the house.\n",
                "\n",
                "**Key Points**:\n",
                "- Class definition and constructor syntax\n",
                "- Instance attributes\n",
                "- Method declaration and string formatting"
            ]
        },
        {
            "cell_type": "code",
            "id": "solution1_1",
            "metadata": {},
            "execution_count": null,
            "source": [
                "# Solution to Problem 1.1\n",
                "class House:\n",
                "    def __init__(self, color, windows, doors):\n",
                "        self.color = color\n",
                "        self.windows = windows\n",
                "        self.doors = doors\n",
                "\n",
                "    def describe(self):\n",
                "        return f\"This is a {self.color} house with {self.windows} windows and {self.doors} doors.\"\n",
                "\n",
                "# Test the House class\n",
                "my_house = House(\"blue\", 6, 2)\n",
                "print(my_house.describe())  # Expected output: This is a blue house with 6 windows and 2 doors."
            ]
        },
        {
            "cell_type": "markdown",
            "id": "problem1_2",
            "metadata": {},
            "source": [
                "### Problem 1.2: Create a Cookie Class\n",
                "**Goal**: Define a `Cookie` class that initializes with flavor and decorations, and includes methods to change its state.\n",
                "\n",
                "**Description**:\n",
                "1. Write a constructor that takes `flavor` and `decorations`.\n",
                "2. Initialize an attribute `is_baked` to `False`.\n",
                "3. Create a method `bake` to change `is_baked` to `True` and return a message.\n",
                "4. Add a method `add_decoration` to append new decorations.\n",
                "\n",
                "**Key Points**:\n",
                "- Handling mutable attributes\n",
                "- Changing object state with methods"
            ]
        },
        {
            "cell_type": "code",
            "id": "solution1_2",
            "metadata": {},
            "execution_count": null,
            "source": [
                "# Solution to Problem 1.2\n",
                "class Cookie:\n",
                "    def __init__(self, flavor, decorations):\n",
                "        self.flavor = flavor\n",
                "        self.decorations = decorations\n",
                "        self.is_baked = False\n",
                "    \n",
                "    def bake(self):\n",
                "        self.is_baked = True\n",
                "        return \"Your cookie is ready!\"\n",
                "    \n",
                "    def add_decoration(self, new_decoration):\n",
                "        self.decorations.append(new_decoration)\n",
                "\n",
                "# Test the Cookie class\n",
                "chocolate_cookie = Cookie(\"chocolate\", [\"sprinkles\"])\n",
                "sugar_cookie = Cookie(\"vanilla\", [\"frosting\"])\n",
                "\n",
                "print(chocolate_cookie.bake())\n",
                "sugar_cookie.add_decoration(\"cherry\")\n",
                "print(sugar_cookie.decorations)  # Expected output: ['frosting', 'cherry']"
            ]
        },
        {
            "cell_type": "markdown",
            "id": "problem1_3",
            "metadata": {},
            "source": [
                "### Problem 1.3: Build a Dog Class with Multiple Method Types\n",
                "**Goal**: Create a `Dog` class that demonstrates the use of an instance method, a class method, and a static method.\n",
                "\n",
                "**Description**:\n",
                "1. Define an instance attribute `name` through the constructor.\n",
                "2. Create an instance method `bark` that returns a barking message.\n",
                "3. Implement a class method `get_species` that returns a class attribute.\n",
                "4. Add a static method `is_adult` that determines if a dog is adult based on its age.\n",
                "\n",
                "**Key Points**:\n",
                "- Difference between instance, class, and static methods\n",
                "- Using decorators (`@classmethod`, `@staticmethod`)"
            ]
        },
        {
            "cell_type": "code",
            "id": "solution1_3",
            "metadata": {},
            "execution_count": null,
            "source": [
                "# Solution to Problem 1.3\n",
                "class Dog:\n",
                "    # Class attribute\n",
                "    species = \"Canine\"\n",
                "    \n",
                "    def __init__(self, name):\n",
                "        self.name = name\n",
                "    \n",
                "    def bark(self):\n",
                "        return f\"{self.name} says woof!\"\n",
                "    \n",
                "    @classmethod\n",
                "    def get_species(cls):\n",
                "        return cls.species\n",
                "    \n",
                "    @staticmethod\n",
                "    def is_adult(age):\n",
                "        return age > 2\n",
                "\n",
                "# Test the Dog class\n",
                "dog = Dog(\"Max\")\n",
                "print(dog.bark())                # Expected output: Max says woof!\n",
                "print(Dog.get_species())         # Expected output: Canine\n",
                "print(Dog.is_adult(3))           # Expected output: True"
            ]
        },
        {
            "cell_type": "markdown",
            "id": "level2_intro",
            "metadata": {},
            "source": [
                "## Level 2: Application\n",
                "\n",
                "In Level 2, we extend the basic syntax by applying it to simulate real-world scenarios. These examples use multiple class concepts together."
            ]
        },
        {
            "cell_type": "markdown",
            "id": "problem2_1",
            "metadata": {},
            "source": [
                "### Problem 2.1: Create a Robot Class\n",
                "**Goal**: Develop a `Robot` class that simulates a robot performing a specific task and tracks battery usage.\n",
                "\n",
                "**Description**:\n",
                "1. Define a class attribute `manufacturer` (shared by all robots).\n",
                "2. In the constructor, initialize `name`, `task`, and set a default `battery` level of 100.\n",
                "3. Create a method `work` that reduces the battery by 10 each time it's called, unless the battery is 0.\n",
                "\n",
                "**Key Points**:\n",
                "- Combining instance and class attributes\n",
                "- Implementing behavior with control flow"
            ]
        },
        {
            "cell_type": "code",
            "id": "solution2_1",
            "metadata": {},
            "execution_count": null,
            "source": [
                "# Solution to Problem 2.1\n",
                "class Robot:\n",
                "    # Class attribute shared by all robots\n",
                "    manufacturer = \"RobotCorp\"\n",
                "    \n",
                "    def __init__(self, name, task):\n",
                "        self.name = name\n",
                "        self.task = task\n",
                "        self.battery = 100\n",
                "    \n",
                "    def work(self):\n",
                "        if self.battery > 0:\n",
                "            self.battery -= 10\n",
                "            return f\"{self.name} is {self.task}. Battery: {self.battery}%\"\n",
                "        return f\"{self.name} needs charging!\"\n",
                "\n",
                "# Test the Robot class\n",
                "cleaner_bot = Robot(\"Cleaney\", \"cleaning\")\n",
                "print(cleaner_bot.work())"
            ]
        },
        {
            "cell_type": "markdown",
            "id": "problem2_2",
            "metadata": {},
            "source": [
                "### Problem 2.2: Build a Student Class\n",
                "**Goal**: Create a `Student` class that differentiates between instance and class attributes and allows modifying an instance's state dynamically.\n",
                "\n",
                "**Description**:\n",
                "1. Define a class attribute `school` that is shared by all students.\n",
                "2. In the constructor, initialize `name`, `grade`, and an empty list `subjects`.\n",
                "3. Create a method `add_subject` that adds a subject to the student's `subjects` list and returns a confirmation.\n",
                "\n",
                "**Key Points**:\n",
                "- Instance attributes vs. class attributes\n",
                "- Modifying object state dynamically"
            ]
        },
        {
            "cell_type": "code",
            "id": "solution2_2",
            "metadata": {},
            "execution_count": null,
            "source": [
                "# Solution to Problem 2.2\n",
                "class Student:\n",
                "    # Class attribute\n",
                "    school = \"Python High\"\n",
                "    \n",
                "    def __init__(self, name, grade):\n",
                "        self.name = name\n",
                "        self.grade = grade\n",
                "        self.subjects = []\n",
                "    \n",
                "    def add_subject(self, subject):\n",
                "        self.subjects.append(subject)\n",
                "        return f\"{self.name} is now studying {subject}\"\n",
                "\n",
                "# Test the Student class\n",
                "alice = Student(\"Alice\", 10)\n",
                "print(alice.add_subject(\"Math\"))\n",
                "print(f\"{alice.name} studies at {alice.school}\")"
            ]
        },
        {
            "cell_type": "markdown",
            "id": "problem2_3",
            "metadata": {},
            "source": [
                "### Problem 2.3: Apply the Dog Class\n",
                "**Goal**: Re-use the previously built `Dog` class in an application scenario to show how methods interact to provide behavior.\n",
                "\n",
                "**Description**:\n",
                "1. Instantiate the `Dog` class with a new name.\n",
                "2. Call the instance method `bark`, class method `get_species`, and static method `is_adult`.\n",
                "\n",
                "**Key Points**:\n",
                "- Reusing class definitions in multiple contexts\n",
                "- Integrating different types of methods within an application"
            ]
        },
        {
            "cell_type": "code",
            "id": "solution2_3",
            "metadata": {},
            "execution_count": null,
            "source": [
                "# Solution to Problem 2.3\n",
                "# Using the Dog class from Level 1\n",
                "dog = Dog(\"Buddy\")\n",
                "print(dog.bark())\n",
                "print(Dog.get_species())\n",
                "print(Dog.is_adult(5))"
            ]
        },
        {
            "cell_type": "markdown",
            "id": "level3_intro",
            "metadata": {},
            "source": [
                "## Level 3: Algorithm\n",
                "\n",
                "Level 3 applies OOP concepts to solve more complex, real-world problems. In these examples, you will work through algorithmic challenges using classes."
            ]
        },
        {
            "cell_type": "markdown",
            "id": "problem3_1",
            "metadata": {},
            "source": [
                "### Problem 3.1: Develop a Basic BankAccount Class\n",
                "**Goal**: Create a `BankAccount` class to model a simple banking system that handles deposits, withdrawals, and generates an account statement.\n",
                "\n",
                "**Description**:\n",
                "1. Define class attributes for the bank name and interest rate.\n",
                "2. In the constructor, initialize the `owner`, a starting `balance`, and an empty list of `transactions`.\n",
                "3. Create methods for `deposit` and `withdraw` that update the balance and record transactions.\n",
                "4. Add a method `get_statement` to display all transactions and the current balance.\n",
                "\n",
                "**Key Points**:\n",
                "- Handling transactions\n",
                "- Aggregating a series of operations into a final report"
            ]
        },
        {
            "cell_type": "code",
            "id": "solution3_1",
            "metadata": {},
            "execution_count": null,
            "source": [
                "# Solution to Problem 3.1\n",
                "class BankAccount:\n",
                "    # Class attributes\n",
                "    bank_name = \"PyBank\"\n",
                "    interest_rate = 0.02\n",
                "    \n",
                "    def __init__(self, owner, initial_balance=0):\n",
                "        self.owner = owner\n",
                "        self.balance = initial_balance\n",
                "        self.transactions = []\n",
                "    \n",
                "    def deposit(self, amount):\n",
                "        if amount > 0:\n",
                "            self.balance += amount\n",
                "            self.transactions.append(f\"Deposit: ${amount}\")\n",
                "            return f\"Deposited ${amount}. New balance: ${self.balance}\"\n",
                "        return \"Invalid amount\"\n",
                "    \n",
                "    def withdraw(self, amount):\n",
                "        if 0 < amount <= self.balance:\n",
                "            self.balance -= amount\n",
                "            self.transactions.append(f\"Withdrawal: ${amount}\")\n",
                "            return f\"Withdrew ${amount}. New balance: ${self.balance}\"\n",
                "        return \"Insufficient funds\"\n",
                "    \n",
                "    def get_statement(self):\n",
                "        statement = f\"\\nAccount Statement for {self.owner}\\n\"\n",
                "        statement += \"=\" * 40 + \"\\n\"\n",
                "        for transaction in self.transactions:\n",
                "            statement += f\"{transaction}\\n\"\n",
                "        statement += \"=\" * 40 + \"\\n\"\n",
                "        statement += f\"Current Balance: ${self.balance}\"\n",
                "        return statement\n",
                "\n",
                "# Test the basic BankAccount\n",
                "account = BankAccount(\"John Doe\", 1000)\n",
                "print(account.deposit(500))\n",
                "print(account.withdraw(200))\n",
                "print(account.get_statement())"
            ]
        },
        {
            "cell_type": "markdown",
            "id": "problem3_2",
            "metadata": {},
            "source": [
                "### Problem 3.2: Adjust the Interest Rate Globally\n",
                "**Goal**: Extend the `BankAccount` class with a class method that updates the interest rate for all accounts.\n",
                "\n",
                "**Description**:\n",
                "1. Add a class method `set_interest_rate` which takes a new rate and updates the class attribute.\n",
                "2. Return a confirmation message with the updated rate.\n",
                "\n",
                "**Key Points**:\n",
                "- Modifying class attributes using `@classmethod`\n",
                "- Global updates to shared data"
            ]
        },
        {
            "cell_type": "code",
            "id": "solution3_2",
            "metadata": {},
            "execution_count": null,
            "source": [
                "# Solution to Problem 3.2\n",
                "class BankAccount:\n",
                "    bank_name = \"PyBank\"\n",
                "    interest_rate = 0.02\n",
                "    \n",
                "    def __init__(self, owner, initial_balance=0):\n",
                "        self.owner = owner\n",
                "        self.balance = initial_balance\n",
                "        self.transactions = []\n",
                "    \n",
                "    def deposit(self, amount):\n",
                "        if amount > 0:\n",
                "            self.balance += amount\n",
                "            self.transactions.append(f\"Deposit: ${amount}\")\n",
                "            return f\"Deposited ${amount}. New balance: ${self.balance}\"\n",
                "        return \"Invalid amount\"\n",
                "    \n",
                "    def withdraw(self, amount):\n",
                "        if 0 < amount <= self.balance:\n",
                "            self.balance -= amount\n",
                "            self.transactions.append(f\"Withdrawal: ${amount}\")\n",
                "            return f\"Withdrew ${amount}. New balance: ${self.balance}\"\n",
                "        return \"Insufficient funds\"\n",
                "    \n",
                "    @classmethod\n",
                "    def set_interest_rate(cls, rate):\n",
                "        cls.interest_rate = rate\n",
                "        return f\"New interest rate: {rate * 100}%\"\n",
                "    \n",
                "    def get_statement(self):\n",
                "        statement = f\"\\nAccount Statement for {self.owner}\\n\"\n",
                "        statement += \"=\" * 40 + \"\\n\"\n",
                "        for transaction in self.transactions:\n",
                "            statement += f\"{transaction}\\n\"\n",
                "        statement += \"=\" * 40 + \"\\n\"\n",
                "        statement += f\"Current Balance: ${self.balance}\"\n",
                "        return statement\n",
                "\n",
                "# Test updating the interest rate\n",
                "print(BankAccount.set_interest_rate(0.03))  # Expected: New interest rate: 3.0%"
            ]
        },
        {
            "cell_type": "markdown",
            "id": "problem3_3",
            "metadata": {},
            "source": [
                "### Problem 3.3: Simulate a Series of Transactions\n",
                "**Goal**: Use the `BankAccount` class to simulate multiple deposits and withdrawals in a single run, then generate a final statement.\n",
                "\n",
                "**Description**:\n",
                "1. Initialize a `BankAccount` object with a starting balance.\n",
                "2. Create a list of transactions (each as a tuple with the action and amount).\n",
                "3. Loop through transactions, calling deposit or withdraw as needed.\n",
                "4. Print out the final account statement.\n",
                "\n",
                "**Key Points**:\n",
                "- Looping through actions\n",
                "- Combining control structures with class methods"
            ]
        },
        {
            "cell_type": "code",
            "id": "solution3_3",
            "metadata": {},
            "execution_count": null,
            "source": [
                "# Solution to Problem 3.3\n",
                "account = BankAccount(\"Jane Doe\", 500)\n",
                "\n",
                "# Simulate a series of deposits and withdrawals\n",
                "transactions = [\n",
                "    ('deposit', 200),\n",
                "    ('withdraw', 100),\n",
                "    ('deposit', 50),\n",
                "    ('withdraw', 300),\n",
                "    ('deposit', 400)\n",
                "]\n",
                "\n",
                "for action, amount in transactions:\n",
                "    if action == 'deposit':\n",
                "        print(account.deposit(amount))\n",
                "    elif action == 'withdraw':\n",
                "        print(account.withdraw(amount))\n",
                "\n",
                "print(account.get_statement())"
            ]
        },
        {
            "cell_type": "markdown",
            "id": "conclusion",
            "metadata": {},
            "source": [
                "## Conclusion\n",
                "\n",
                "In this notebook we:\n",
                "\n",
                "- **Level 1: Syntax**: Learned the fundamentals of defining classes, initializing attributes, and writing methods.\n",
                "- **Level 2: Application**: Applied these concepts to simulate practical examples such as a robot or student management.\n",
                "- **Level 3: Algorithm**: Tackled more complex problems including bank account operations and transaction simulations.\n",
                "\n",
                "Experiment with these examples and extend them further to build your own applications!"
            ]
        }
    ],
    "metadata": {
        "kernelspec": {
            "display_name": "Python 3",
            "language": "python",
            "name": "python3"
        },
        "language_info": {
            "file_extension": ".py",
            "mimetype": "text/x-python",
            "name": "python",
            "version": "3.x"
        }
    },
    "nbformat": 4,
    "nbformat_minor": 5
}