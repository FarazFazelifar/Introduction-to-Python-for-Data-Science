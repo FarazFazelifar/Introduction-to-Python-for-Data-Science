{
 "cells": [
  {
   "cell_type": "markdown",
   "id": "2aa0be00",
   "metadata": {},
   "source": [
    "# Introduction to Python for Data Science\n",
    "\n",
    "This notebook contains three main sections based on skill level:\n",
    "1. **Beginner (Syntax)**\n",
    "2. **Intermediate (Application)**\n",
    "3. **Advanced (Algorithm)**\n",
    "\n",
    "Each section includes three problems, an explanation of each, and a step-by-step solution in code."
   ]
  },
  {
   "cell_type": "markdown",
   "id": "1b0209c4",
   "metadata": {},
   "source": [
    "---\n",
    "## 1. Beginner Level (Syntax)\n",
    "\n",
    "This section covers fundamental Python syntax and basic operations."
   ]
  },
  {
   "cell_type": "markdown",
   "id": "91a12265",
   "metadata": {},
   "source": [
    "### Problem 1: Print and Variables\n",
    "**Goal**: Learn how to declare variables, use the `print()` function, and do simple arithmetic.\n",
    "\n",
    "**Description**:\n",
    "1. You want to store two numbers in variables.\n",
    "2. Print their sum, difference, and product.\n",
    "3. Demonstrate string concatenation as well.\n",
    "\n",
    "**Key Points**:\n",
    "- Declaring variables in Python (no need for a type).\n",
    "- Using the `+` operator both for arithmetic and string concatenation.\n",
    "- Using `print()` for displaying output.\n"
   ]
  },
  {
   "cell_type": "code",
   "execution_count": null,
   "id": "4353c6f3",
   "metadata": {},
   "outputs": [],
   "source": [
    "# Solution to Problem 1\n",
    "num1 = 10\n",
    "num2 = 5\n",
    "\n",
    "# Arithmetic\n",
    "sum_result = num1 + num2\n",
    "difference_result = num1 - num2\n",
    "product_result = num1 * num2\n",
    "\n",
    "print(\"num1 =\", num1)\n",
    "print(\"num2 =\", num2)\n",
    "print(\"Sum =\", sum_result)\n",
    "print(\"Difference =\", difference_result)\n",
    "print(\"Product =\", product_result)\n",
    "\n",
    "# String concatenation example\n",
    "text1 = \"Hello\"\n",
    "text2 = \"World\"\n",
    "concatenated = text1 + \" \" + text2\n",
    "print(\"String Concatenation =\", concatenated)"
   ]
  },
  {
   "cell_type": "markdown",
   "id": "94a2d64d",
   "metadata": {},
   "source": [
    "### Problem 2: Input and Type Casting\n",
    "**Goal**: Practice how to capture user input and convert it into different data types.\n",
    "\n",
    "**Description**:\n",
    "1. Prompt the user for their name (string).\n",
    "2. Prompt the user for their age (integer).\n",
    "3. Print a greeting including their name and confirm their age next year.\n",
    "\n",
    "**Key Points**:\n",
    "- Using `input()` function to capture data.\n",
    "- Converting string inputs to integers.\n",
    "- Printing a customized message with f-strings.\n"
   ]
  },
  {
   "cell_type": "code",
   "execution_count": null,
   "id": "16f0f712",
   "metadata": {},
   "outputs": [],
   "source": [
    "# Solution to Problem 2\n",
    "# NOTE: If you run this in a Jupyter environment, you can input values inline.\n",
    "# For demonstration, we will simulate the input by defining the variables directly.\n",
    "\n",
    "# name = input(\"Enter your name: \")\n",
    "# age_str = input(\"Enter your age: \")\n",
    "\n",
    "name = \"Alice\"  # simulated input\n",
    "age_str = \"30\"    # simulated input\n",
    "\n",
    "age = int(age_str)\n",
    "next_year_age = age + 1\n",
    "\n",
    "print(f\"Hello, {name}! You are {age} years old.\")\n",
    "print(f\"Next year, you'll be {next_year_age} years old.\")"
   ]
  },
  {
   "cell_type": "markdown",
   "id": "60c11bcc",
   "metadata": {},
   "source": [
    "### Problem 3: Simple Conditional\n",
    "**Goal**: Learn to use basic `if`, `elif`, and `else` statements.\n",
    "\n",
    "**Description**:\n",
    "1. Prompt the user for a number.\n",
    "2. Check if the number is positive, negative, or zero.\n",
    "3. Print an appropriate response.\n",
    "\n",
    "**Key Points**:\n",
    "- Using `if`, `elif`, and `else` in Python.\n",
    "- Handling boundary conditions.\n"
   ]
  },
  {
   "cell_type": "code",
   "execution_count": null,
   "id": "8b7d59d8",
   "metadata": {},
   "outputs": [],
   "source": [
    "# Solution to Problem 3\n",
    "# num_str = input(\"Enter a number: \")  # In a real scenario\n",
    "num_str = \"-5\"  # Simulated input\n",
    "num = float(num_str)\n",
    "\n",
    "if num > 0:\n",
    "    print(f\"{num} is positive.\")\n",
    "elif num < 0:\n",
    "    print(f\"{num} is negative.\")\n",
    "else:\n",
    "    print(f\"{num} is zero.\")\n"
   ]
  },
  {
   "cell_type": "markdown",
   "id": "8b23d147",
   "metadata": {},
   "source": [
    "---\n",
    "## 2. Intermediate Level (Application)\n",
    "\n",
    "This section demonstrates how to apply Python syntax and basic data structures to solve slightly more complex tasks."
   ]
  },
  {
   "cell_type": "markdown",
   "id": "5312e85b",
   "metadata": {},
   "source": [
    "### Problem 1: List Operations\n",
    "**Goal**: Work with lists, loops, and basic operations on collections.\n",
    "\n",
    "**Description**:\n",
    "1. Create a list of 5 numbers.\n",
    "2. Compute the sum, average, and maximum value.\n",
    "3. Print them out in a nicely formatted way.\n",
    "\n",
    "**Key Points**:\n",
    "- Basic list indexing and iteration.\n",
    "- Using built-in functions like `sum()` and `max()`.\n"
   ]
  },
  {
   "cell_type": "code",
   "execution_count": null,
   "id": "016b4a46",
   "metadata": {},
   "outputs": [],
   "source": [
    "# Solution to Intermediate Problem 1\n",
    "numbers = [12, 5, 7, 19, 3]\n",
    "total = sum(numbers)\n",
    "avg = total / len(numbers)\n",
    "maximum = max(numbers)\n",
    "\n",
    "print(f\"Numbers: {numbers}\")\n",
    "print(f\"Sum: {total}\")\n",
    "print(f\"Average: {avg}\")\n",
    "print(f\"Max Value: {maximum}\")"
   ]
  },
  {
   "cell_type": "markdown",
   "id": "e6303944",
   "metadata": {},
   "source": [
    "### Problem 2: String Analysis\n",
    "**Goal**: Analyze a user input string for certain characteristics.\n",
    "\n",
    "**Description**:\n",
    "1. Prompt the user for a sentence.\n",
    "2. Count how many words it has.\n",
    "3. Convert it to uppercase and check if it has any digits.\n",
    "4. Print your findings.\n",
    "\n",
    "**Key Points**:\n",
    "- Splitting strings into lists of words.\n",
    "- Using built-in string methods like `.upper()`, `.isdigit()`, etc.\n"
   ]
  },
  {
   "cell_type": "code",
   "execution_count": null,
   "id": "1a6dc626",
   "metadata": {},
   "outputs": [],
   "source": [
    "# Solution to Intermediate Problem 2\n",
    "# sentence = input(\"Enter a sentence: \")\n",
    "sentence = \"Hello world 123\"  # Simulated input\n",
    "words = sentence.split()\n",
    "word_count = len(words)\n",
    "uppercase_sentence = sentence.upper()\n",
    "contains_digit = any(ch.isdigit() for ch in sentence)\n",
    "\n",
    "print(f\"Original Sentence: {sentence}\")\n",
    "print(f\"Word Count: {word_count}\")\n",
    "print(f\"Uppercase Sentence: {uppercase_sentence}\")\n",
    "print(f\"Contains Digit?: {contains_digit}\")"
   ]
  },
  {
   "cell_type": "markdown",
   "id": "21f47f66",
   "metadata": {},
   "source": [
    "### Problem 3: Simple Calculator with Error Handling\n",
    "**Goal**: Extend a basic calculator to handle invalid operations gracefully.\n",
    "\n",
    "**Description**:\n",
    "1. Prompt the user for two numbers.\n",
    "2. Prompt for an operation (`+`, `-`, `*`, `/`).\n",
    "3. Perform the operation if valid, otherwise print an error.\n",
    "4. Use a `try-except` block to handle division by zero.\n",
    "\n",
    "**Key Points**:\n",
    "- Handling exceptions in Python.\n",
    "- Using conditional checks for valid operations.\n",
    "- Good example of a small application with user input.\n"
   ]
  },
  {
   "cell_type": "code",
   "execution_count": null,
   "id": "fd0ffb5d",
   "metadata": {},
   "outputs": [],
   "source": [
    "# Solution to Intermediate Problem 3\n",
    "# Simulated user inputs\n",
    "num1_str = \"15\"\n",
    "num2_str = \"0\"\n",
    "operation = \"/\"\n",
    "\n",
    "num1 = float(num1_str)\n",
    "num2 = float(num2_str)\n",
    "\n",
    "if operation not in ['+', '-', '*', '/']:\n",
    "    print(\"Invalid operation!\")\n",
    "else:\n",
    "    try:\n",
    "        if operation == '+':\n",
    "            result = num1 + num2\n",
    "        elif operation == '-':\n",
    "            result = num1 - num2\n",
    "        elif operation == '*':\n",
    "            result = num1 * num2\n",
    "        else:  # division\n",
    "            result = num1 / num2\n",
    "        print(f\"{num1} {operation} {num2} = {result}\")\n",
    "    except ZeroDivisionError:\n",
    "        print(\"Error: Division by zero is not allowed.\")\n"
   ]
  },
  {
   "cell_type": "markdown",
   "id": "b2aa8b2f",
   "metadata": {},
   "source": [
    "---\n",
    "## 3. Advanced Level (Algorithm)\n",
    "\n",
    "This section focuses on more complex algorithms that require critical thinking and problem-solving."
   ]
  },
  {
   "cell_type": "markdown",
   "id": "086a3896",
   "metadata": {},
   "source": [
    "### Problem 1: Fibonacci Sequence\n",
    "**Goal**: Generate the Fibonacci sequence up to a certain number of terms.\n",
    "\n",
    "**Description**:\n",
    "1. Prompt the user for the number of terms (e.g., 10).\n",
    "2. Print the Fibonacci series up to that many terms.\n",
    "3. Use a loop or recursion.\n",
    "\n",
    "**Key Points**:\n",
    "- Fibonacci definition: `F(n) = F(n-1) + F(n-2)` with base cases `F(0)=0`, `F(1)=1`.\n",
    "- Understanding how to implement loops or recursion in Python.\n"
   ]
  },
  {
   "cell_type": "code",
   "execution_count": null,
   "id": "c50424a6",
   "metadata": {},
   "outputs": [],
   "source": [
    "# Solution to Advanced Problem 1\n",
    "def fibonacci(n):\n",
    "    if n <= 0:\n",
    "        return []\n",
    "    elif n == 1:\n",
    "        return [0]\n",
    "    elif n == 2:\n",
    "        return [0, 1]\n",
    "    else:\n",
    "        fib_seq = [0, 1]\n",
    "        for i in range(2, n):\n",
    "            next_val = fib_seq[i-1] + fib_seq[i-2]\n",
    "            fib_seq.append(next_val)\n",
    "        return fib_seq\n",
    "\n",
    "# Example usage (simulated user input)\n",
    "num_terms = 10\n",
    "sequence = fibonacci(num_terms)\n",
    "print(f\"Fibonacci sequence with {num_terms} terms: {sequence}\")"
   ]
  },
  {
   "cell_type": "markdown",
   "id": "c40425a2",
   "metadata": {},
   "source": [
    "### Problem 2: Sorting Algorithm (Bubble Sort)\n",
    "**Goal**: Implement a classic sorting algorithm, such as Bubble Sort, to understand algorithm complexity.\n",
    "\n",
    "**Description**:\n",
    "1. Prompt the user for a list of numbers (can be comma-separated).\n",
    "2. Implement Bubble Sort to sort them in ascending order.\n",
    "3. Print the sorted list and discuss algorithmic complexity (O(n^2)).\n",
    "\n",
    "**Key Points**:\n",
    "- Understand the iterative nature of bubble sort.\n",
    "- Each pass \"bubbles\" the largest element to the end.\n",
    "- Complexity: O(n^2).\n"
   ]
  },
  {
   "cell_type": "code",
   "execution_count": null,
   "id": "e924845e",
   "metadata": {},
   "outputs": [],
   "source": [
    "# Solution to Advanced Problem 2\n",
    "def bubble_sort(arr):\n",
    "    n = len(arr)\n",
    "    for i in range(n-1):\n",
    "        for j in range(n-1-i):\n",
    "            if arr[j] > arr[j+1]:\n",
    "                arr[j], arr[j+1] = arr[j+1], arr[j]\n",
    "    return arr\n",
    "\n",
    "# Simulated user input\n",
    "input_str = \"45, 11, 23, 9, 76, 3\"\n",
    "arr = [int(x.strip()) for x in input_str.split(',')]\n",
    "sorted_arr = bubble_sort(arr)\n",
    "print(f\"Original list: {arr}\")  # note that 'arr' is now sorted in-place\n",
    "print(f\"Sorted list: {sorted_arr}\")\n",
    "# Complexity of bubble sort = O(n^2) for the worst and average case."
   ]
  },
  {
   "cell_type": "markdown",
   "id": "f949a3ce",
   "metadata": {},
   "source": [
    "### Problem 3: Recursive Factorial with Memoization\n",
    "**Goal**: Implement a recursive factorial function that uses memoization to optimize repeated calculations.\n",
    "\n",
    "**Description**:\n",
    "1. Prompt the user for a number `n`.\n",
    "2. Compute `n!` (factorial) using recursion.\n",
    "3. Store results in a dictionary to avoid redundant computation.\n",
    "4. Print out the result.\n",
    "\n",
    "**Key Points**:\n",
    "- Factorial definition: `factorial(n) = n * factorial(n-1)` with `factorial(0) = 1`.\n",
    "- Use a global or local dictionary to store results for each `n`.\n",
    "- Illustrates basic dynamic programming (memoization).\n"
   ]
  },
  {
   "cell_type": "code",
   "execution_count": null,
   "id": "8c6f83e6",
   "metadata": {},
   "outputs": [],
   "source": [
    "# Solution to Advanced Problem 3\n",
    "memo = {}  # dictionary to store computed factorials\n",
    "\n",
    "def factorial_memo(n):\n",
    "    if n < 0:\n",
    "        return None\n",
    "    if n == 0 or n == 1:\n",
    "        return 1\n",
    "    if n in memo:\n",
    "        return memo[n]\n",
    "    else:\n",
    "        result = n * factorial_memo(n - 1)\n",
    "        memo[n] = result\n",
    "        return result\n",
    "\n",
    "# Simulated user input\n",
    "n = 6\n",
    "fact_n = factorial_memo(n)\n",
    "print(f\"Factorial of {n} is {fact_n}\")\n",
    "print(f\"Memo dictionary: {memo}\")"
   ]
  },
  {
   "cell_type": "markdown",
   "id": "1fb0d82d",
   "metadata": {},
   "source": [
    "---\n",
    "## Conclusion\n",
    "In this Jupyter notebook, we covered **Beginner**, **Intermediate**, and **Advanced** problems. We started with basic Python syntax, user input, and simple conditionals, then moved on to practical list and string operations. Finally, we explored algorithms like Fibonacci, Bubble Sort, and factorial with memoization.\n",
    "\n",
    "Keep practicing and exploring Python to build a strong foundation for data science and beyond!"
   ]
  }
 ],
 "metadata": {
  "kernelspec": {
   "display_name": "Python 3",
   "language": "python",
   "name": "python3"
  },
  "language_info": {
   "codemirror_mode": {
    "name": "ipython",
    "version": 3
   },
   "file_extension": ".py",
   "mimetype": "text/x-python",
   "name": "python",
   "nbconvert_exporter": "python",
   "pygments_lexer": "ipython3",
   "version": "3.x"
  }
 },
 "nbformat": 4,
 "nbformat_minor": 5
}
