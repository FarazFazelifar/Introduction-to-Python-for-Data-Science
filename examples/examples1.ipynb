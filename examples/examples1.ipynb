{
    "cells": [
     {
      "cell_type": "markdown",
      "metadata": {},
      "source": [
       "# Introduction to Python for Data Science\n",
       "\n",
       "This notebook contains three main sections based on skill level:\n",
       "1. **Beginner (Syntax)**\n",
       "2. **Intermediate (Application)**\n",
       "3. **Advanced (Algorithm)**\n",
       "\n",
       "Each section introduces problems with an explanation of the approach and then provides a step-by-step solution with detailed explanations."
      ]
     },
     {
      "cell_type": "markdown",
      "metadata": {},
      "source": [
       "---\n",
       "## 1. Beginner Level (Syntax)\n",
       "\n",
       "In this section, we cover fundamental Python syntax and basic operations. We start with simple tasks like printing, variable declaration, basic arithmetic, and data types."
      ]
     },
     {
      "cell_type": "markdown",
      "metadata": {},
      "source": [
       "### Problem 1: Print and Variables\n",
       "**Goal**: Learn how to declare variables, use the `print()` function, and perform simple arithmetic operations.\n",
       "\n",
       "**Description**:\n",
       "1. Declare two numerical variables.\n",
       "2. Compute and print their sum, difference, and product.\n",
       "3. Demonstrate string concatenation.\n",
       "\n",
       "**Approach**:\n",
       "- Assign values to variables without specifying a type.\n",
       "- Use arithmetic operators (`+`, `-`, `*`) for calculations.\n",
       "- Use the `print()` function to display results, including combining strings and numbers.\n",
       "\n",
       "**Detailed Explanation**:\n",
       "- Variables in Python are created simply by assigning a value to a name.\n",
       "- Arithmetic operations are straightforward, and the same `+` operator can be used to concatenate strings."
      ]
     },
     {
      "cell_type": "code",
      "execution_count": null,
      "metadata": {},
      "outputs": [],
      "source": [
       "# Solution to Problem 1: Print and Variables\n",
       "num1 = 10\n",
       "num2 = 5\n",
       "\n",
       "# Perform arithmetic operations\n",
       "sum_result = num1 + num2\n",
       "difference_result = num1 - num2\n",
       "product_result = num1 * num2\n",
       "\n",
       "print(\"num1 =\", num1)\n",
       "print(\"num2 =\", num2)\n",
       "print(\"Sum =\", sum_result)\n",
       "print(\"Difference =\", difference_result)\n",
       "print(\"Product =\", product_result)\n",
       "\n",
       "# String concatenation example\n",
       "text1 = \"Hello\"\n",
       "text2 = \"World\"\n",
       "concatenated = text1 + \" \" + text2\n",
       "print(\"String Concatenation =\", concatenated)"
      ]
     },
     {
      "cell_type": "markdown",
      "metadata": {},
      "source": [
       "### Extra Beginner Example: Data Types and Type Checking\n",
       "**Goal**: Understand different basic data types and how to check them.\n",
       "\n",
       "**Approach**:\n",
       "1. Create variables of different types (integer, float, string, boolean).\n",
       "2. Use the `type()` function to display their types.\n",
       "\n",
       "**Detailed Explanation**:\n",
       "- This example demonstrates how Python dynamically assigns types to variables.\n",
       "- The `type()` function returns the type of a given variable."
      ]
     },
     {
      "cell_type": "code",
      "execution_count": null,
      "metadata": {},
      "outputs": [],
      "source": [
       "# Extra Beginner Example: Data Types and Type Checking\n",
       "num = 42\n",
       "flt = 3.14\n",
       "txt = \"Python is fun!\"\n",
       "boolean_val = True\n",
       "\n",
       "print(\"Value:\", num, \"Type:\", type(num))\n",
       "print(\"Value:\", flt, \"Type:\", type(flt))\n",
       "print(\"Value:\", txt, \"Type:\", type(txt))\n",
       "print(\"Value:\", boolean_val, \"Type:\", type(boolean_val))"
      ]
     },
     {
      "cell_type": "markdown",
      "metadata": {},
      "source": [
       "### Problem 2: Input and Type Casting\n",
       "**Goal**: Practice capturing user input and converting it to the proper data types.\n",
       "\n",
       "**Description**:\n",
       "1. Prompt the user for their name (a string).\n",
       "2. Prompt for their age (an integer).\n",
       "3. Print a greeting that includes the name and calculates their age next year.\n",
       "\n",
       "**Approach**:\n",
       "- Use the `input()` function to capture data from the user.\n",
       "- Convert the input for age from a string to an integer using `int()`.\n",
       "- Use an f-string to format the output message.\n",
       "\n",
       "**Detailed Explanation**:\n",
       "- Input is always received as a string, so conversion is necessary for arithmetic.\n",
       "- The f-string allows embedding expressions directly within the string."
      ]
     },
     {
      "cell_type": "code",
      "execution_count": null,
      "metadata": {},
      "outputs": [],
      "source": [
       "# Solution to Problem 2: Input and Type Casting\n",
       "# For demonstration purposes, simulated inputs are used.\n",
       "# Uncomment the input() lines if running interactively.\n",
       "\n",
       "# name = input(\"Enter your name: \")\n",
       "# age_str = input(\"Enter your age: \")\n",
       "\n",
       "name = \"Alice\"  # simulated input\n",
       "age_str = \"30\"  # simulated input\n",
       "\n",
       "age = int(age_str)\n",
       "next_year_age = age + 1\n",
       "\n",
       "print(f\"Hello, {name}! You are {age} years old.\")\n",
       "print(f\"Next year, you'll be {next_year_age} years old.\")"
      ]
     },
     {
      "cell_type": "markdown",
      "metadata": {},
      "source": [
       "### Problem 3: Simple Conditional\n",
       "**Goal**: Learn to use basic `if`, `elif`, and `else` statements to control program flow.\n",
       "\n",
       "**Description**:\n",
       "1. Prompt the user for a number.\n",
       "2. Check if the number is positive, negative, or zero.\n",
       "3. Print an appropriate message based on the condition.\n",
       "\n",
       "**Approach**:\n",
       "- Convert the input to a number (float for generality).\n",
       "- Use an `if-elif-else` structure to compare the number with zero.\n",
       "\n",
       "**Detailed Explanation**:\n",
       "- This conditional statement checks three possibilities: greater than zero, less than zero, or exactly zero.\n",
       "- It demonstrates branching logic in Python."
      ]
     },
     {
      "cell_type": "code",
      "execution_count": null,
      "metadata": {},
      "outputs": [],
      "source": [
       "# Solution to Problem 3: Simple Conditional\n",
       "# For demonstration, we simulate input.\n",
       "# num_str = input(\"Enter a number: \")\n",
       "num_str = \"-5\"  # simulated input\n",
       "num = float(num_str)\n",
       "\n",
       "if num > 0:\n",
       "    print(f\"{num} is positive.\")\n",
       "elif num < 0:\n",
       "    print(f\"{num} is negative.\")\n",
       "else:\n",
       "    print(f\"{num} is zero.\")"
      ]
     },
     {
      "cell_type": "markdown",
      "metadata": {},
      "source": [
       "---\n",
       "## 2. Intermediate Level (Application)\n",
       "\n",
       "In this section, we apply basic Python syntax and data structures to solve more involved tasks. These examples include list operations, string analysis, and a simple calculator with error handling."
      ]
     },
     {
      "cell_type": "markdown",
      "metadata": {},
      "source": [
       "### Problem 1: List Operations\n",
       "**Goal**: Work with lists, loops, and basic list functions.\n",
       "\n",
       "**Description**:\n",
       "1. Create a list of 5 numbers.\n",
       "2. Calculate the sum, average, and maximum value.\n",
       "3. Print the results in a formatted manner.\n",
       "\n",
       "**Approach**:\n",
       "- Use Python’s list data structure to store numbers.\n",
       "- Employ built-in functions like `sum()` and `max()` for computations.\n",
       "- Use `len()` to determine the number of elements.\n",
       "\n",
       "**Detailed Explanation**:\n",
       "- Lists allow us to store ordered data and perform operations like summing and averaging easily."
      ]
     },
     {
      "cell_type": "code",
      "execution_count": null,
      "metadata": {},
      "outputs": [],
      "source": [
       "# Solution to Intermediate Problem 1: List Operations\n",
       "numbers = [12, 5, 7, 19, 3]\n",
       "total = sum(numbers)\n",
       "avg = total / len(numbers)\n",
       "maximum = max(numbers)\n",
       "\n",
       "print(f\"Numbers: {numbers}\")\n",
       "print(f\"Sum: {total}\")\n",
       "print(f\"Average: {avg}\")\n",
       "print(f\"Max Value: {maximum}\")"
      ]
     },
     {
      "cell_type": "markdown",
      "metadata": {},
      "source": [
       "### Problem 2: String Analysis\n",
       "**Goal**: Analyze a string input for its properties.\n",
       "\n",
       "**Description**:\n",
       "1. Get a sentence from the user.\n",
       "2. Count the number of words.\n",
       "3. Convert the sentence to uppercase.\n",
       "4. Determine if the sentence contains any digits.\n",
       "\n",
       "**Approach**:\n",
       "- Use the `split()` method to divide the sentence into words.\n",
       "- Use string methods like `.upper()` and `.isdigit()` to analyze the content.\n",
       "\n",
       "**Detailed Explanation**:\n",
       "- The `split()` method breaks the string at spaces, resulting in a list of words.\n",
       "- The `any()` function in combination with a generator expression checks each character for being a digit."
      ]
     },
     {
      "cell_type": "code",
      "execution_count": null,
      "metadata": {},
      "outputs": [],
      "source": [
       "# Solution to Intermediate Problem 2: String Analysis\n",
       "# For demonstration, we simulate a user input.\n",
       "# sentence = input(\"Enter a sentence: \")\n",
       "sentence = \"Hello world 123\"  # simulated input\n",
       "words = sentence.split()\n",
       "word_count = len(words)\n",
       "uppercase_sentence = sentence.upper()\n",
       "contains_digit = any(ch.isdigit() for ch in sentence)\n",
       "\n",
       "print(f\"Original Sentence: {sentence}\")\n",
       "print(f\"Word Count: {word_count}\")\n",
       "print(f\"Uppercase Sentence: {uppercase_sentence}\")\n",
       "print(f\"Contains Digit?: {contains_digit}\")"
      ]
     },
     {
      "cell_type": "markdown",
      "metadata": {},
      "source": [
       "### Problem 3: Simple Calculator with Error Handling\n",
       "**Goal**: Build a simple calculator that handles basic operations and errors gracefully.\n",
       "\n",
       "**Description**:\n",
       "1. Prompt the user for two numbers.\n",
       "2. Prompt the user for an arithmetic operation (`+`, `-`, `*`, `/`).\n",
       "3. Perform the calculation if the operation is valid.\n",
       "4. Handle division by zero and invalid operations using error handling.\n",
       "\n",
       "**Approach**:\n",
       "- Convert inputs to numbers and check if the chosen operator is valid.\n",
       "- Use a `try-except` block to catch a division by zero error.\n",
       "\n",
       "**Detailed Explanation**:\n",
       "- The calculator first validates the operation.\n",
       "- If the operation is division, a try-except block catches any division by zero error.\n",
       "- Appropriate messages are printed based on the outcome."
      ]
     },
     {
      "cell_type": "code",
      "execution_count": null,
      "metadata": {},
      "outputs": [],
      "source": [
       "# Solution to Intermediate Problem 3: Simple Calculator with Error Handling\n",
       "# Simulated user inputs for demonstration\n",
       "num1_str = \"15\"\n",
       "num2_str = \"0\"\n",
       "operation = \"/\"\n",
       "\n",
       "num1 = float(num1_str)\n",
       "num2 = float(num2_str)\n",
       "\n",
       "if operation not in ['+', '-', '*', '/']:\n",
       "    print(\"Invalid operation!\")\n",
       "else:\n",
       "    try:\n",
       "        if operation == '+':\n",
       "            result = num1 + num2\n",
       "        elif operation == '-':\n",
       "            result = num1 - num2\n",
       "        elif operation == '*':\n",
       "            result = num1 * num2\n",
       "        else:  # division\n",
       "            result = num1 / num2\n",
       "        print(f\"{num1} {operation} {num2} = {result}\")\n",
       "    except ZeroDivisionError:\n",
       "        print(\"Error: Division by zero is not allowed.\")"
      ]
     },
     {
      "cell_type": "markdown",
      "metadata": {},
      "source": [
       "---\n",
       "## 3. Advanced Level (Algorithm)\n",
       "\n",
       "This section focuses on more complex algorithms that require a bit more logic and problem solving. All examples are provided without using functions (i.e. no `def`), so that you can learn to work with code in a procedural, step-by-step manner."
      ]
     },
     {
      "cell_type": "markdown",
      "metadata": {},
      "source": [
       "### Problem 1: Fibonacci Sequence\n",
       "**Goal**: Generate the Fibonacci sequence up to a specified number of terms.\n",
       "\n",
       "**Description**:\n",
       "1. Prompt the user for the number of terms (e.g., 10).\n",
       "2. Use a loop to generate the Fibonacci sequence:\n",
       "   - Start with the base cases: 0 and 1.\n",
       "   - For each subsequent term, compute it as the sum of the two preceding terms.\n",
       "3. Print the resulting sequence.\n",
       "\n",
       "**Approach**:\n",
       "- Check if the number of terms is less than or equal to 0, and handle accordingly.\n",
       "- If only one term is requested, return `[0]`.\n",
       "- Otherwise, build the list starting from `[0, 1]` and loop until the desired number of terms is reached.\n",
       "\n",
       "**Detailed Explanation**:\n",
       "- The algorithm uses a simple loop to calculate each Fibonacci number and appends it to a list.\n",
       "- The process is iterative and demonstrates the use of loops and list operations."
      ]
     },
     {
      "cell_type": "code",
      "execution_count": null,
      "metadata": {},
      "outputs": [],
      "source": [
       "# Solution to Advanced Problem 1: Fibonacci Sequence (without functions)\n",
       "num_terms = int(input(\"Enter the number of terms for the Fibonacci sequence: \"))\n",
       "\n",
       "if num_terms <= 0:\n",
       "    fib_seq = []\n",
       "elif num_terms == 1:\n",
       "    fib_seq = [0]\n",
       "else:\n",
       "    fib_seq = [0, 1]\n",
       "    for i in range(2, num_terms):\n",
       "        next_val = fib_seq[i-1] + fib_seq[i-2]\n",
       "        fib_seq.append(next_val)\n",
       "\n",
       "print(\"Fibonacci sequence with\", num_terms, \"terms:\", fib_seq)"
      ]
     },
     {
      "cell_type": "markdown",
      "metadata": {},
      "source": [
       "### Problem 2: Bubble Sort\n",
       "**Goal**: Sort a list of numbers using the Bubble Sort algorithm.\n",
       "\n",
       "**Description**:\n",
       "1. Prompt the user for a comma-separated list of numbers.\n",
       "2. Convert the string to a list of integers.\n",
       "3. Implement the Bubble Sort algorithm:\n",
       "   - Repeatedly compare adjacent elements and swap them if they are in the wrong order.\n",
       "4. Print the sorted list.\n",
       "\n",
       "**Approach**:\n",
       "- Use nested loops: the outer loop tracks the number of passes, and the inner loop performs the comparisons and swaps.\n",
       "- The algorithm has a time complexity of O(n²) in the worst case.\n",
       "\n",
       "**Detailed Explanation**:\n",
       "- Bubble Sort works by repeatedly “bubbling” the largest unsorted element to its correct position at the end of the list."
      ]
     },
     {
      "cell_type": "code",
      "execution_count": null,
      "metadata": {},
      "outputs": [],
      "source": [
       "# Solution to Advanced Problem 2: Bubble Sort (without functions)\n",
       "input_str = input(\"Enter a list of numbers separated by commas: \")  # e.g., \"45, 11, 23, 9, 76, 3\"\n",
       "arr = [int(x.strip()) for x in input_str.split(\",\")]\n",
       "n = len(arr)\n",
       "\n",
       "# Implementing Bubble Sort\n",
       "for i in range(n-1):\n",
       "    for j in range(n-1-i):\n",
       "        if arr[j] > arr[j+1]:\n",
       "            arr[j], arr[j+1] = arr[j+1], arr[j]\n",
       "\n",
       "print(\"Sorted list:\", arr)\n",
       "print(\"Note: Bubble Sort has O(n^2) complexity in the worst and average cases.\")"
      ]
     },
     {
      "cell_type": "markdown",
      "metadata": {},
      "source": [
       "### Problem 3: Factorial Calculator with Memoization (Iterative)\n",
       "**Goal**: Calculate the factorial of a given number while storing intermediate results (memoization) without using functions or recursion.\n",
       "\n",
       "**Description**:\n",
       "1. Prompt the user for a non-negative integer `n`.\n",
       "2. Initialize a dictionary to store computed factorial values (memoization).\n",
       "3. Iteratively compute the factorial from 2 up to `n`, storing each result.\n",
       "4. Print the factorial of `n` and display the memo dictionary.\n",
       "\n",
       "**Approach**:\n",
       "- Start by setting `memo[0]` and `memo[1]` to 1.\n",
       "- Use a loop from 2 to `n` to compute each factorial iteratively using the previously stored value.\n",
       "\n",
       "**Detailed Explanation**:\n",
       "- This approach avoids recursion and functions while still demonstrating memoization by caching intermediate results in a dictionary."
      ]
     },
     {
      "cell_type": "code",
      "execution_count": null,
      "metadata": {},
      "outputs": [],
      "source": [
       "# Solution to Advanced Problem 3: Factorial Calculator with Memoization (Iterative, without functions)\n",
       "n = int(input(\"Enter a non-negative integer to compute its factorial: \"))\n",
       "\n",
       "memo = {}\n",
       "memo[0] = 1\n",
       "if n >= 1:\n",
       "    memo[1] = 1\n",
       "\n",
       "fact = 1\n",
       "for i in range(2, n+1):\n",
       "    fact = memo[i-1] * i\n",
       "    memo[i] = fact\n",
       "\n",
       "print(\"Factorial of\", n, \"is\", fact)\n",
       "print(\"Memo dictionary:\", memo)"
      ]
     },
     {
      "cell_type": "markdown",
      "metadata": {},
      "source": [
       "### Extra Advanced Example: Prime Number Checker\n",
       "**Goal**: Determine whether a given integer is a prime number.\n",
       "\n",
       "**Description**:\n",
       "1. Prompt the user for an integer.\n",
       "2. Check if the number is less than 2; if so, it is not prime.\n",
       "3. Loop from 2 up to the square root of the number to test for divisibility.\n",
       "4. Print whether the number is prime or not.\n",
       "\n",
       "**Approach**:\n",
       "- A number is prime if it has no divisors other than 1 and itself.\n",
       "- The loop only needs to run up to the square root of the number for efficiency.\n",
       "\n",
       "**Detailed Explanation**:\n",
       "- We use a flag (`is_prime`) to keep track of whether a divisor is found.\n",
       "- If any divisor divides the number evenly, we set the flag to False."
      ]
     },
     {
      "cell_type": "code",
      "execution_count": null,
      "metadata": {},
      "outputs": [],
      "source": [
       "# Extra Advanced Example: Prime Number Checker (without functions)\n",
       "n = int(input(\"Enter an integer to check for prime: \"))\n",
       "is_prime = True\n",
       "if n < 2:\n",
       "    is_prime = False\n",
       "else:\n",
       "    for i in range(2, int(n**0.5) + 1):\n",
       "        if n % i == 0:\n",
       "            is_prime = False\n",
       "            break\n",
       "\n",
       "if is_prime:\n",
       "    print(n, \"is prime.\")\n",
       "else:\n",
       "    print(n, \"is not prime.\")"
      ]
     },
     {
      "cell_type": "markdown",
      "metadata": {},
      "source": [
       "### Extra Intermediate Example: Reverse a String\n",
       "**Goal**: Reverse the characters of a given string.\n",
       "\n",
       "**Description**:\n",
       "1. Prompt the user for a string.\n",
       "2. Reverse the string using slicing.\n",
       "3. Print the original and reversed strings.\n",
       "\n",
       "**Approach**:\n",
       "- Slicing with a step of -1 (`[::-1]`) provides an easy way to reverse a string.\n",
       "\n",
       "**Detailed Explanation**:\n",
       "- This example reinforces basic string manipulation and slicing techniques."
      ]
     },
     {
      "cell_type": "code",
      "execution_count": null,
      "metadata": {},
      "outputs": [],
      "source": [
       "# Extra Intermediate Example: Reverse a String (without functions)\n",
       "s = input(\"Enter a string to reverse: \")\n",
       "reversed_s = s[::-1]\n",
       "print(\"Original String:\", s)\n",
       "print(\"Reversed String:\", reversed_s)"
      ]
     },
     {
      "cell_type": "markdown",
      "metadata": {},
      "source": [
       "---\n",
       "# Conclusion\n",
       "\n",
       "In this notebook, we covered three levels of Python examples:\n",
       "\n",
       "1. **Beginner Level**: Basic syntax, variables, input/output, and conditional statements with extra examples on data types.\n",
       "2. **Intermediate Level**: Application of lists, string analysis, and a simple calculator with error handling plus an extra example on string reversal.\n",
       "3. **Advanced Level**: Algorithms including the Fibonacci sequence, Bubble Sort, factorial calculation with memoization (iterative), and a prime number checker.\n",
       "\n",
       "Each example is presented with a detailed explanation and a step-by-step approach to help you understand the underlying concepts before diving into functions.\n",
       "\n",
       "Keep practicing and exploring these examples to build a strong foundation in Python for data science!"
      ]
     }
    ],
    "metadata": {
     "kernelspec": {
      "display_name": "Python 3",
      "language": "python",
      "name": "python3"
     },
     "language_info": {
      "codemirror_mode": {
       "name": "ipython",
       "version": 3
      },
      "file_extension": ".py",
      "mimetype": "text/x-python",
      "name": "python",
      "nbconvert_exporter": "python",
      "pygments_lexer": "ipython3",
      "version": "3.x"
     }
    },
    "nbformat": 4,
    "nbformat_minor": 5
   }
   